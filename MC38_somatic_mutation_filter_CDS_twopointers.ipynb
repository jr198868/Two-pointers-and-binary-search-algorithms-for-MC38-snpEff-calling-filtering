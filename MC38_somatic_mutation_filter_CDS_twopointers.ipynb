{
 "cells": [
  {
   "cell_type": "code",
   "execution_count": 1,
   "metadata": {},
   "outputs": [],
   "source": [
    "import json\n",
    "import csv\n",
    "import pandas as pd\n",
    "import numpy as np\n",
    "from matplotlib import pyplot as plt"
   ]
  },
  {
   "cell_type": "code",
   "execution_count": 2,
   "metadata": {},
   "outputs": [
    {
     "name": "stdout",
     "output_type": "stream",
     "text": [
      "257247\n",
      "chr1:3000441 ['chr1', '3000441', '.', 'T', 'G', '.', '.', 'AC=1;AN=2;ANN=G|intergenic_region|MODIFIER|CHR_START-Xkr4|CHR_START-Xkr4|intergenic_region|CHR_START-Xkr4|||n.3000441T>G||||||;AS_SB_TABLE=0,0|23,13;DP=36;ECNT=1;MBQ=0,37;MFRL=0,303;MMQ=60,60;MPOS=35;POPAF=7.30;SF=0;TLOD=131.33', 'GT:AD:F1R2:DP:F2R1:SB:AF', '0/1:0,36:0,22:36:0,14:0,0,23,13:0.970', '.', '.', '.', '.', '.', '.', '.', '.', '.', '.', '.', '.', '.', '.', '.', '.', '.', '.\\n']\n",
      "chr19:61304054 ['chr19', '61304054', '.', 'T', 'C', '.', '.', 'AC=1;AN=2;ANN=C|intergenic_region|MODIFIER|Csf2ra-CHR_END|Csf2ra-CHR_END|intergenic_region|Csf2ra-CHR_END|||n.61304054T>C||||||;AS_SB_TABLE=22,17|3,9;DP=51;ECNT=6;MBQ=37,37;MFRL=278,378;MMQ=60,36;MPOS=43;POPAF=7.30;SF=18;TLOD=31.75', 'GT:AD:F1R2:DP:F2R1:SB:AF', '.', '.', '.', '.', '.', '.', '.', '.', '.', '.', '.', '.', '.', '.', '.', '.', '.', '.', '0/1:39,12:21,7:51:18,5:22,17,3,9:0.255\\n']\n",
      "{'chr1': 20099, 'chr2': 19586, 'chr3': 15877, 'chr4': 25701, 'chr5': 21963, 'chr6': 12149, 'chr7': 10379, 'chr8': 16156, 'chr9': 10797, 'chr10': 13678, 'chr11': 14849, 'chr12': 9833, 'chr13': 8596, 'chr14': 5536, 'chr15': 16086, 'chr16': 11658, 'chr17': 8296, 'chr18': 8882, 'chr19': 7107}\n",
      "257228\n",
      "CPU times: user 12.9 s, sys: 568 ms, total: 13.4 s\n",
      "Wall time: 13.4 s\n"
     ]
    }
   ],
   "source": [
    "%%time\n",
    "#load the MC38 chromosomes vcf file with snpEff annotation\n",
    "\n",
    "with open('/home/raymond/Desktop/BlueSphere_Bio_Inc/MC38/MC38_BAM_somatic_mutation_calling/MC38_vcf_snpeff/MC38_chromosomes_snpEff.vcf') as f:\n",
    "    vcf_reader = []\n",
    "    MC38_chromosome_filter_dict = {}\n",
    "    \n",
    "    for i in f:\n",
    "        if i.startswith('#'):\n",
    "            continue\n",
    "        else:\n",
    "            i = i.split('\\t')\n",
    "            #print(i)\n",
    "            vcf_reader.append(i)\n",
    "\n",
    "#print(len(vcf_reader))\n",
    "#print(vcf_reader[0])\n",
    "        \n",
    "    for i in vcf_reader:\n",
    "        for j in i[7].split(';'):\n",
    "            if j.startswith('DP'):\n",
    "                DP = j.split('=')[-1]\n",
    "        \n",
    "            if j.startswith('MBQ'):\n",
    "                MBQ = max(j.split('=')[-1].split(','))\n",
    "            \n",
    "            if j.startswith('MMQ'):\n",
    "                MMQ = max(j.split('=')[-1].split(','))\n",
    "        \n",
    "            if j.startswith('TLOD'):\n",
    "                TLOD = max(j.split('=')[-1].split(','))\n",
    "\n",
    "        if float(TLOD) > 20 and float(MMQ) >= 40 and float(DP) > 30 and float(MBQ) > 30: \n",
    "            MC38_chromosome_filter_dict[i[0] + ':' + i[1]] = i \n",
    "        \n",
    "print(len(MC38_chromosome_filter_dict))\n",
    "print(list(MC38_chromosome_filter_dict.keys())[0], MC38_chromosome_filter_dict[list(MC38_chromosome_filter_dict.keys())[0]])\n",
    "print(list(MC38_chromosome_filter_dict.keys())[-1], MC38_chromosome_filter_dict[list(MC38_chromosome_filter_dict.keys())[-1]])\n",
    "\n",
    "\n",
    "#check chromosome\n",
    "\n",
    "chrom_check = {}\n",
    "\n",
    "for i in MC38_chromosome_filter_dict.keys():\n",
    "    if i.split(':')[0] in chrom_check.keys():\n",
    "        chrom_check[i.split(':')[0]] += 1\n",
    "    else:\n",
    "        chrom_check[i.split(':')[0]]  = 0\n",
    "        \n",
    "print(chrom_check)\n",
    "print(sum(list(chrom_check.values())))"
   ]
  },
  {
   "cell_type": "code",
   "execution_count": 7,
   "metadata": {},
   "outputs": [
    {
     "name": "stdout",
     "output_type": "stream",
     "text": [
      "472761\n",
      "[{'chromosome': 'chr1', 'transcriptId': 'XM_006495471.3', 'geneId': 'Lypla1', 'start': 4807734, 'end': 4807982, 'rev': '+'}, {'chromosome': 'chr1', 'transcriptId': 'XM_006495471.3', 'geneId': 'Lypla1', 'start': 4808455, 'end': 4808486, 'rev': '+'}, {'chromosome': 'chr1', 'transcriptId': 'XM_006495471.3', 'geneId': 'Lypla1', 'start': 4828584, 'end': 4828649, 'rev': '+'}, {'chromosome': 'chr1', 'transcriptId': 'XM_006495471.3', 'geneId': 'Lypla1', 'start': 4830268, 'end': 4830315, 'rev': '+'}, {'chromosome': 'chr1', 'transcriptId': 'XM_006495471.3', 'geneId': 'Lypla1', 'start': 4832311, 'end': 4832381, 'rev': '+'}]\n",
      "CPU times: user 4.38 s, sys: 211 ms, total: 4.6 s\n",
      "Wall time: 4.66 s\n"
     ]
    }
   ],
   "source": [
    "%%time\n",
    "# reads cds region from ncbiRefSeq file \n",
    "\n",
    "def read_gtfcds(input_gtf):\n",
    "    storage = []\n",
    "    transId = \"\"\n",
    "    with open(input_gtf) as gtf:\n",
    "        temp = []\n",
    "        valid = True\n",
    "        for info in gtf:\n",
    "            info = info.split()\n",
    "            chromosome = info[0]\n",
    "#           if chromosome == \"chr10\":\n",
    "            tp = info[2]\n",
    "            start = int(info[3])\n",
    "            end = int(info[4])\n",
    "            rev = info[6]\n",
    "            transcriptId = info[11][1:len(info[11]) - 2]      \n",
    "            geneId = info[9].split(';')[0].split('\"')[1]\n",
    "\n",
    "            #start of new transcript; cleanse global data\n",
    "            if transId != transcriptId:\n",
    "                transId = transcriptId\n",
    "                temp = []\n",
    "                valid = True\n",
    "\n",
    "            #all with the same transcript id\n",
    "            if valid:\n",
    "                if rev == \"+\":\n",
    "                    if tp == \"CDS\":\n",
    "                        # creates a dictionary to improve performance\n",
    "                        data = {}\n",
    "                        data[\"chromosome\"] = chromosome\n",
    "                        data[\"transcriptId\"] = transcriptId\n",
    "                        data[\"geneId\"] = geneId\n",
    "                        data[\"start\"] = start\n",
    "                        data[\"end\"] = end\n",
    "                        data[\"rev\"] = rev\n",
    "                        temp.append(data)\n",
    "                    #check if start of first codon is the same as the start codon\n",
    "                    elif tp == \"start_codon\":\n",
    "                        if len(temp) < 1 or start != temp[0][\"start\"]:\n",
    "                            valid = False\n",
    "                    #check if start of last CDS + 1 is the same as the start of the stop codon\n",
    "                    elif tp == \"stop_codon\":\n",
    "                        if len(temp) < 1 or start != temp[-1][\"end\"] + 1:\n",
    "                            valid = False\n",
    "                        else:\n",
    "                            storage += temp\n",
    "   \n",
    "        return storage\n",
    "\n",
    "input_mm10_gtf = \"/home/raymond/Downloads/mm10.ncbiRefSeq.gtf\"\n",
    "mm10_cds = read_gtfcds(input_mm10_gtf)                        \n",
    "\n",
    "print(len(mm10_cds))\n",
    "print(mm10_cds[0:5])\n"
   ]
  },
  {
   "cell_type": "code",
   "execution_count": 69,
   "metadata": {},
   "outputs": [
    {
     "name": "stdout",
     "output_type": "stream",
     "text": [
      "36559\n",
      "6809\n",
      "20100\n",
      "['chr1', '195371622', '.', 'C', 'CAGGGTG', '.', '.', 'AC=1;AN=2;ANN=CAGGGTG|intergenic_region|MODIFIER|Cr2-CHR_END|Cr2-CHR_END|intergenic_region|Cr2-CHR_END|||n.195371622_195371623insAGGGTG||||||;AS_SB_TABLE=0,0|16,15;DP=39;ECNT=1;MBQ=0,37;MFRL=0,260;MMQ=60,60;MPOS=46;POPAF=7.30;RPA=4,5;RU=AGGGTG;SF=0;STR;TLOD=118.29', 'GT:AD:DP:F1R2:F2R1:SB:AF', '0/1:0,31:31:0,17:0,10:0,0,16,15:0.969', '.', '.', '.', '.', '.', '.', '.', '.', '.', '.', '.', '.', '.', '.', '.', '.', '.', '.\\n']\n",
      "CPU times: user 154 ms, sys: 0 ns, total: 154 ms\n",
      "Wall time: 153 ms\n"
     ]
    }
   ],
   "source": [
    "%%time\n",
    "#sort and merge the mm10_cds for each chromosome\n",
    "\n",
    "cds_region_chrom = []\n",
    "\n",
    "for i in mm10_cds:\n",
    "    if i['chromosome'] == 'chr1':\n",
    "        cds_region_chrom.append([int(i['start']), int(i['end'])])\n",
    "\n",
    "print(len(cds_region_chrom))\n",
    "#print(cds_region_chrom[0:800])\n",
    "#print(cds_region_chrom[-1])\n",
    "\n",
    "def cds_merge(intervals):\n",
    "    intervals_sort = sorted(intervals, key=lambda x: x[0])\n",
    "    merged = []\n",
    "    for interval in intervals_sort:\n",
    "        if not merged or merged[-1][-1] < interval[0]:\n",
    "            merged.append(interval)\n",
    "        else:\n",
    "            merged[-1][-1] = max(merged[-1][-1], interval[-1])\n",
    "    return merged\n",
    "\n",
    "result_cds = cds_merge(cds_region_chrom)\n",
    "\n",
    "print(len(result_cds))\n",
    "#print(result_cds)\n",
    "\n",
    "\n",
    "#load/read senEff information from MC38_chromosome_filter_dict\n",
    "snpEff_chrom = []\n",
    "\n",
    "for i in MC38_chromosome_filter_dict.keys():\n",
    "    if i.split(':')[0] == 'chr1':\n",
    "        snpEff_chrom.append(MC38_chromosome_filter_dict[i])\n",
    "print(len(snpEff_chrom))\n",
    "print(snpEff_chrom[-1])\n"
   ]
  },
  {
   "cell_type": "code",
   "execution_count": 52,
   "metadata": {},
   "outputs": [
    {
     "name": "stdout",
     "output_type": "stream",
     "text": [
      "105\n",
      "CPU times: user 20.9 ms, sys: 0 ns, total: 20.9 ms\n",
      "Wall time: 20.4 ms\n"
     ]
    }
   ],
   "source": [
    "%%time\n",
    "#use two pointers to compare MC38_chromosome_filter_dict and result_cds_sort\n",
    "\n",
    "snp, cds = 0, 0\n",
    "final_result = []\n",
    "\n",
    "while snp < len(snpEff_chrom) and cds < len(result_cds):\n",
    "   \n",
    "    if result_cds[cds][0] <= int(snpEff_chrom[snp][1]) <= result_cds[cds][1]:\n",
    "        final_result.append(snpEff_chrom[snp])\n",
    "        snp += 1\n",
    "        \n",
    "    elif int(snpEff_chrom[snp][1]) < result_cds[cds][0]:        \n",
    "        snp += 1\n",
    "            \n",
    "    elif int(snpEff_chrom[snp][1]) > result_cds[cds][1]:\n",
    "        cds += 1\n",
    "        \n",
    "print(len(final_result))\n",
    "#print(final_result)\n"
   ]
  },
  {
   "cell_type": "code",
   "execution_count": null,
   "metadata": {},
   "outputs": [],
   "source": []
  },
  {
   "cell_type": "code",
   "execution_count": 6,
   "metadata": {},
   "outputs": [],
   "source": [
    "with open('/home/raymond/Desktop/MC38_summary/MC38_somatic_mutation_calling_filter_snpeff_CDS/two_pointers/MC38_chr1_filter_snpeff_cds_twopointer.csv', 'w', newline=\"\") as f:\n",
    "    writer = csv.writer(f)\n",
    "    writer.writerows(final_result)"
   ]
  },
  {
   "cell_type": "code",
   "execution_count": null,
   "metadata": {},
   "outputs": [],
   "source": []
  }
 ],
 "metadata": {
  "kernelspec": {
   "display_name": "Python 3",
   "language": "python",
   "name": "python3"
  },
  "language_info": {
   "codemirror_mode": {
    "name": "ipython",
    "version": 3
   },
   "file_extension": ".py",
   "mimetype": "text/x-python",
   "name": "python",
   "nbconvert_exporter": "python",
   "pygments_lexer": "ipython3",
   "version": "3.8.1"
  }
 },
 "nbformat": 4,
 "nbformat_minor": 4
}
